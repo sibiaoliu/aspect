{
 "cells": [
  {
   "attachments": {},
   "cell_type": "markdown",
   "metadata": {},
   "source": [
    "# Example on how to use Python to read the output files from ASPECT.\n",
    "\n",
    "We start by importing the packages needed and the functions from the file read_files.py:"
   ]
  },
  {
   "cell_type": "code",
   "execution_count": null,
   "metadata": {},
   "outputs": [],
   "source": [
    "%matplotlib inline  \n",
    "## This allows figures to be plotted \"inline\". \n",
    "## In a normal python script, you use plt.show() to see the figures, \n",
    "## or plt.savefig(\"name.pdf\") to save the figures \n",
    "## (you can also use this command in the notebooks)\n",
    "\n",
    "import numpy as np  # for mathematical functions and arrays\n",
    "import matplotlib.pyplot as plt  # for plot\n",
    "import pandas as pd # for data analysis\n",
    "from scipy.interpolate import griddata\n",
    "## We use short names for the libraries we use a lot.\n",
    "\n",
    "import io \n",
    "import os\n",
    "from subprocess import run\n",
    "\n",
    "import sys \n",
    "sys.path.insert(0, '../../scripts/')\n",
    "import aspect_data"
   ]
  },
  {
   "attachments": {},
   "cell_type": "markdown",
   "metadata": {},
   "source": [
    "# Running aspect from the notebook \n",
    "\n",
    "You may want to modify the path for the aspect build folder. \n",
    "\n",
    "A run will provide the output files that we are then reading later. "
   ]
  },
  {
   "cell_type": "code",
   "execution_count": null,
   "metadata": {},
   "outputs": [],
   "source": [
    "input_file = \"convection-box.prm\"     \n",
    "aspect_bin = \"../../../../build/aspect\"          # Path to aspect executable\n",
    "output_dir = \"./output/\"                      # Output directory\n",
    "\n",
    "def run_aspect():\n",
    "    run(['rm','-rf',output_dir])\n",
    "    run([aspect_bin,input_file])\n",
    "    \n",
    "run_aspect()"
   ]
  },
  {
   "attachments": {},
   "cell_type": "markdown",
   "metadata": {},
   "source": [
    "# Parameter file\n",
    "\n",
    "Sometimes, it's useful to be able to access the values for the parameters inside the parameter file, especially if you are exploring a large parameter space. \n",
    "\n",
    "You can read the parameter file with the function read_files.read_parameter_file(filename)"
   ]
  },
  {
   "cell_type": "code",
   "execution_count": null,
   "metadata": {},
   "outputs": [],
   "source": [
    "param_file = output_dir+\"parameters.prm\"\n",
    "param = aspect_data.read_parameter_file(param_file)"
   ]
  },
  {
   "attachments": {},
   "cell_type": "markdown",
   "metadata": {},
   "source": [
    "The param variable is then a dictionary that include all the parameters that have been defined in the original parameter file. One can then access the values using the same names than the subsections in the .prm file. "
   ]
  },
  {
   "cell_type": "code",
   "execution_count": null,
   "metadata": {},
   "outputs": [],
   "source": [
    "print(param[\"Material model\"])\n",
    "print(param[\"Material model: Simple model\"])"
   ]
  },
  {
   "attachments": {},
   "cell_type": "markdown",
   "metadata": {},
   "source": [
    "## File statistics\n",
    "\n",
    "The file statistics regroup all the statistics for everytime steps. It can be a very long file, so pandas (a package for data analysis) is the best tool to open and read it. \n",
    "The number of columns depends on your run, and is indicated as comments at the beginning of the file. The function read_statistics() will first read the comments, extracts the names of the columns and then read the file with pd.read_csv(). \n",
    "\n",
    "Here, we use an example of a run with a 1D column. All the output files are in the folder ./example. "
   ]
  },
  {
   "cell_type": "code",
   "execution_count": null,
   "metadata": {},
   "outputs": [],
   "source": [
    "# we provide the name for the file statistics:\n",
    "statistics = output_dir+ \"statistics\"\n",
    "\n",
    "# we read the file with our function:\n",
    "data =  aspect_data.read_statistics(statistics)"
   ]
  },
  {
   "attachments": {},
   "cell_type": "markdown",
   "metadata": {},
   "source": [
    "The output of the function is a pandas dataframe, where all data are in a big table where the columns have human-readable names. We can have a look at the table wit data.head()"
   ]
  },
  {
   "cell_type": "code",
   "execution_count": null,
   "metadata": {},
   "outputs": [],
   "source": [
    "data.head()"
   ]
  },
  {
   "attachments": {},
   "cell_type": "markdown",
   "metadata": {},
   "source": [
    "We can then look at the evolution of some of the statistics with time: "
   ]
  },
  {
   "cell_type": "code",
   "execution_count": null,
   "metadata": {},
   "outputs": [],
   "source": [
    "# using the plot function embedded in the panda frame:\n",
    "data.plot(\"Time (seconds)\", \"RMS velocity (m/s)\")"
   ]
  },
  {
   "cell_type": "code",
   "execution_count": null,
   "metadata": {
    "scrolled": true
   },
   "outputs": [],
   "source": [
    "# or using the pyplot functions (allows more flexibility)\n",
    "\n",
    "fig, ax = plt.subplots()\n",
    "\n",
    "ax.plot(data[\"Time (seconds)\"], data[\"RMS velocity (m/s)\"], label=\"RMS velocity\")\n",
    "ax.plot(data[\"Time (seconds)\"], data[\"Max. velocity (m/s)\"], label=\"Max velocity\")\n",
    "ax.legend()\n",
    "ax.set_xlabel(\"Time (s)\")"
   ]
  },
  {
   "attachments": {},
   "cell_type": "markdown",
   "metadata": {},
   "source": [
    "## Visualization files\n",
    "\n",
    "The statistics file includes when visualization files have been created. If they have been written as gnuplot files, then we can read them and plot them. \n",
    "\n",
    "In the example case, the grid is a column of 1 cell width. So the output can be plotted as 1D variable. "
   ]
  },
  {
   "cell_type": "code",
   "execution_count": null,
   "metadata": {},
   "outputs": [],
   "source": [
    "# we remove the values from data with NaN in the visualization file name column\n",
    "data = data.dropna(subset=[\"Visualization file name\"])\n",
    "\n",
    "# we store the values for the file names and the associated time. \n",
    "visu_files = data[\"Visualization file name\"].values\n",
    "visu_times = data[\"Time (seconds)\"].values\n",
    "\n",
    "df = aspect_data.read_gnuplot_visu(visu_files[0]+\".0000.gnuplot\")\n",
    "print(df.head())"
   ]
  },
  {
   "attachments": {},
   "cell_type": "markdown",
   "metadata": {},
   "source": [
    "### Unstructured grid \n",
    "\n",
    "The points are not always on a structured grid, so tricontourf may be the best way to plot the temperature field for example"
   ]
  },
  {
   "cell_type": "code",
   "execution_count": null,
   "metadata": {},
   "outputs": [],
   "source": [
    "fig, ax = plt.subplots(1, 5, sharey=True, sharex=True, figsize=[15,3])\n",
    "\n",
    "i=0\n",
    "for time, file in zip(visu_times[:-2:2], visu_files[:-2:2]):\n",
    "    #print(time, file)\n",
    "    file = file+\".0000.gnuplot\"\n",
    "    df = aspect_data.read_gnuplot_visu(file)\n",
    "    #df = df[df[\"x\"]==0.5]\n",
    "    x, y, t = df[\"x\"].values, df[\"y\"].values, df[\"T\"].values\n",
    "    ax[i].tricontourf(x, y, t, 15, vmin=0, vmax=1)\n",
    "    i += 1"
   ]
  },
  {
   "attachments": {},
   "cell_type": "markdown",
   "metadata": {},
   "source": [
    "### Structured grid \n",
    "\n",
    "However, for plotting the velocities, it may be easier to interpolate on a structured grid, using griddata from scipy.\n",
    "\n",
    "This also allows to use streamplots, for example. \n",
    "\n",
    "In that case, we choose where the points will be interpolated, which may be better in the case of very asymmetric x/y axis (for example if one axis in log scale and not the other)"
   ]
  },
  {
   "cell_type": "code",
   "execution_count": null,
   "metadata": {},
   "outputs": [],
   "source": [
    "fig, ax = plt.subplots()\n",
    "\n",
    "# define grid.\n",
    "xi = np.linspace(0, 1, 100)\n",
    "yi = np.linspace(0, 1, 100)\n",
    "xi, yi = np.meshgrid(xi, yi)\n",
    "\n",
    "# interpolate the values on the grid for the temperature.\n",
    "Ti = griddata((x, y), t, (xi, yi))\n",
    "# contour the gridded data, plotting dots at the nonuniform data points.\n",
    "#CS = plt.contour(xi, yi, Ti, 15, linewidths=0.5, colors='k')\n",
    "CS = ax.contourf(xi, yi, Ti, 15,\n",
    "                  vmax=1., vmin=0.)\n",
    "fig.colorbar(CS, ax=ax, ticks=[0, 0.5, 1])\n",
    "\n",
    "# grid the velocities\n",
    "vx, vy = df[\"velocity_x\"].values, df[\"velocity_y\"].values\n",
    "Vxi = griddata( (x, y), vx, (xi, yi))\n",
    "Vyi = griddata( (x, y), vy, (xi, yi))\n",
    "ax.streamplot(xi, yi, Vxi, Vyi, density=[0.5,0.5], color='k')\n",
    "\n",
    "ax.axis('equal')  # force the x and y axes to have the same scale\n",
    "ax.set_xlim([0,1])\n",
    "ax.set_ylim([0,1])\n",
    "ax.axis('off') # remove the axes and ticks"
   ]
  },
  {
   "cell_type": "code",
   "execution_count": null,
   "metadata": {},
   "outputs": [],
   "source": [
    "\n"
   ]
  },
  {
   "cell_type": "code",
   "execution_count": null,
   "metadata": {},
   "outputs": [],
   "source": []
  }
 ],
 "metadata": {
  "kernelspec": {
   "display_name": "py_aspect",
   "language": "python",
   "name": "py_aspect"
  },
  "language_info": {
   "codemirror_mode": {
    "name": "ipython",
    "version": 3
   },
   "file_extension": ".py",
   "mimetype": "text/x-python",
   "name": "python",
   "nbconvert_exporter": "python",
   "pygments_lexer": "ipython3",
   "version": "3.11.4"
  }
 },
 "nbformat": 4,
 "nbformat_minor": 2
}
