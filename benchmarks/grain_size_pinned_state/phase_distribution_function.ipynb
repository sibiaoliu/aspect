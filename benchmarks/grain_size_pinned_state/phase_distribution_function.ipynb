{
 "cells": [
  {
   "cell_type": "markdown",
   "metadata": {},
   "source": [
    "This notebook tests the conversion of the interface roughness into the mean grain size in the pinned state. The relevant equations are taken from \n",
    "\n",
    "Bercovici, D., & Ricard, Y. (2012). Mechanisms for the generation of plate tectonics by two-phase grain-damage and pinning. Physics of the Earth and Planetary Interiors, 202, 27-55.\n",
    "\n",
    "To test if our implementation is correct, we compare our results at volume fraction of $\\phi_1 = 0.6$ with the value given in \n",
    "\n",
    "Mulyukova, E., & Bercovici, D. (2018). Collapse of passive margins by lithospheric damage and plunging grain size. Earth and Planetary Science Letters, 484, 341-352,\n",
    "\n",
    "for the same volume fraction (this is given in the paper as $\\pi/2$)."
   ]
  },
  {
   "cell_type": "code",
   "execution_count": null,
   "metadata": {},
   "outputs": [],
   "source": [
    "import numpy as np"
   ]
  },
  {
   "cell_type": "markdown",
   "metadata": {},
   "source": [
    "In the steady state system (Zenner pinning $\\rightarrow$ 0), the mean grain size $\\bar{R}$ can be computed as (Appendix H.1 in Bercovici and Richard, 2012):\n",
    "\n",
    "$\\bar{R} = \\Sigma_i \\phi_i R_i  \\approx cr$, \n",
    "\n",
    "where:\n",
    "- $c = \\Sigma_i \\phi_i / \\sqrt{h_i}$, \n",
    "- $r$ is interface coarseness, \n",
    "- $h_i = c_1 (1 - \\phi_i)$ (Eq. 18), \n",
    "- and $\\phi_i$ is volume fraction of phase $i$. \n",
    "\n",
    "Below is an implementation of this relation for two phases:"
   ]
  },
  {
   "cell_type": "code",
   "execution_count": null,
   "metadata": {},
   "outputs": [],
   "source": [
    "def mean_roughness_to_grain_size_factor (phi1):\n",
    "    phi2 = 1 - phi1\n",
    "    \n",
    "    h1   = c1 * (1 - phi1)\n",
    "    h2   = c1 * (1 - phi2)\n",
    "    \n",
    "    return phi1 / np.sqrt(h1) + phi2 / np.sqrt(h2)"
   ]
  },
  {
   "cell_type": "markdown",
   "metadata": {},
   "source": [
    "From Eq. 8:\n",
    "\n",
    "\\begin{equation}\n",
    "c_n = \\frac {3b_n\\lambda_{n+3}} {2(n+3)\\lambda_2}\n",
    "\\end{equation}\n",
    "\n",
    "where $\\lambda_n = \\exp ({n^2 \\sigma^2/2})$ and $\\sigma = 0.8$.\n",
    "\n",
    "Based on their fit to the experimental data, a linear law (n=1) achieves the best results.\n",
    "\n",
    "\\begin{equation}\n",
    "c_1 = \\frac {3b_1\\lambda_{4}} {8\\lambda_2}\n",
    "\\end{equation}\n",
    "\n",
    "and $b_1 = 1/20$ from Appendix F.28."
   ]
  },
  {
   "cell_type": "code",
   "execution_count": null,
   "metadata": {},
   "outputs": [],
   "source": [
    "sigma = 0.8\n",
    "\n",
    "def get_lambda (n):\n",
    "    return np.exp((n**2 * sigma**2)/2)\n",
    "\n",
    "b1 = 1/20.\n",
    "c1 = (3 * b1 * get_lambda(4))/(8 * get_lambda (2))"
   ]
  },
  {
   "cell_type": "markdown",
   "metadata": {},
   "source": [
    "The computed value of $c_1$ (0.872) is similar to the one given in \n",
    "\n",
    "Bercovici, D., & Ricard, Y. (2014). Plate tectonics, damage and inheritance. Nature, 508(7497), 513-516.\n",
    "\n",
    "in Eq. 14 (which is given as 0.87). We can now compare the computed grain size to roughness conversion factor for a phase fraction of 0.6 with the value provided in Mulyukova & Bercovici (2018). Because both values are identical this test confirms that we can use the computed factor to convert between interface roughness ($r$) and mean grain size ($R$) as\n",
    "\n",
    "\\begin{align}\n",
    "R &= r / \\sqrt{h_G} \\text{ with} \\\\\n",
    "\\sqrt{h_G} &\\approx 2 / \\pi\n",
    "\\end{align}\n"
   ]
  },
  {
   "cell_type": "code",
   "execution_count": null,
   "metadata": {},
   "outputs": [],
   "source": [
    "print(\"Computed conversion factor: \", mean_roughness_to_grain_size_factor(0.6))\n",
    "print (\"Published conversion factor: \", np.pi/2)"
   ]
  }
 ],
 "metadata": {
  "kernelspec": {
   "display_name": "Python 3",
   "language": "python",
   "name": "python3"
  },
  "language_info": {
   "codemirror_mode": {
    "name": "ipython",
    "version": 3
   },
   "file_extension": ".py",
   "mimetype": "text/x-python",
   "name": "python",
   "nbconvert_exporter": "python",
   "pygments_lexer": "ipython3",
   "version": "3.10.10"
  }
 },
 "nbformat": 4,
 "nbformat_minor": 2
}
