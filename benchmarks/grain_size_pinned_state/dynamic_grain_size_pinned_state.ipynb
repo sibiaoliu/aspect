{
  "cells": [
    {
      "attachments": {},
      "cell_type": "markdown",
      "metadata": {
        "id": "vA8IKpRQToxA"
      },
      "source": [
        "This notebook reports on the test results for test `grain_size_strain_pinned.prm` and allows to compare the test against analytical results. The test models a small volume in simple shear flow with constant strain rate, and a grain size that is not at its equilibrium value. We can compute how much the grain size should change according to the terms given in Eq. 8 of Mulyukova and Bercovici (2018):\n",
        "\n",
        "\\begin{align}\n",
        "\\dot{R}_{\\text{growth}} = \\frac {3 \\phi_1\\phi_2 k_g \\sqrt h_g^{-q}}{q R^{q-1}} \\exp(\\frac{-E_g}{R_gT}) \\\\\n",
        "\\dot{R}_{\\text{reduction}} = - \\frac{f \\sqrt{h_g} \\Psi}{3\\phi_1\\phi_2} R^2 \\\\\n",
        "\\dot{R} = \\dot{R}_{\\text{growth}} + \\dot{R}_{\\text{reduction}} \\\\\n",
        "\\Delta R = \\dot{R} \\Delta t \\\\\n",
        "\\end{align}\n",
        "\n",
        "Here, $\\dot{R}_{\\text{growth}}$ is the grain size growth rate, $\\dot{R}_{\\text{reduction}}$ is the grain size reduction rate, $\\dot{R}$ is the combined grain size change rate, $\\Delta R$ is the approximate change in grain size over a time step of length $\\Delta t$, $\\phi_1 \\phi_2$ is the phase distribution function and $\\sqrt{h_g} = 2/\\pi$. The shear heating term $\\Psi$ is $2\\dot\\varepsilon\\tau$, where $\\tau = 2 \\eta \\dot\\varepsilon$, therefore, $\\Psi = 4 \\eta \\dot\\varepsilon ^2$. All other parameters are as given in Mulyukova and Bercovici (2018).\n",
        "\n",
        "We can now for any given shear heating rate $\\Psi$ compute the grain size change using the equations above. We can perform the same computation using the ASPECT model in the test `grain_size_strain_pinned.prm`. Then, we can compare the ASPECT model results to the analytical prediction, to confirm that we have correctly implemented the equations.\n"
      ]
    },
    {
      "cell_type": "code",
      "execution_count": null,
      "metadata": {
        "id": "OGhzU5tiUwgj"
      },
      "outputs": [],
      "source": [
        "import numpy as np"
      ]
    },
    {
      "cell_type": "markdown",
      "metadata": {
        "id": "G7nHQAC1Vlrn"
      },
      "source": [
        "These are function implementations of the terms above:"
      ]
    },
    {
      "cell_type": "code",
      "execution_count": null,
      "metadata": {
        "id": "dehNx1SoYkr5"
      },
      "outputs": [],
      "source": [
        "\n",
        "def growth_term(R):\n",
        "  return (hg**(-q/2) * 3 * phase_distribution * grain_growth_prefactor * \\\n",
        "                                 np.exp(-grain_growth_activation/R_times_T))/(q*R**(q-1))\n",
        "                      \n",
        "def reduction_term(R, shear_heating):\n",
        "  return f1*np.sqrt(hg)*shear_heating*(R**2)/(3*phase_distribution)\n",
        "\n",
        "def shear_heating_rate(strain_rate, viscosity):\n",
        "  return 4*strain_rate*strain_rate*viscosity"
      ]
    },
    {
      "cell_type": "code",
      "execution_count": null,
      "metadata": {
        "id": "E3IRGuDDUwgk"
      },
      "outputs": [],
      "source": [
        "# define material constants here, making sure\n",
        "# they align with the values in the test grain_size_strain_pinned.prm file\n",
        "q                       = 3.\n",
        "grain_growth_prefactor  = 1.92e-10\n",
        "grain_growth_activation = 4e5\n",
        "f1                      = 1e-1\n",
        "phase_distribution      = 0.6*0.4\n",
        "\n",
        "hg         = (2/np.pi)*(2/np.pi)\n",
        "R_times_T  = 8.314*1600\n",
        "\n",
        "second_in_year = 3600*24*365.25\n",
        "strain_rate    = 1e-5/second_in_year/2\n",
        "\n",
        "# we run the test model for 1 year. The smaller the model length\n",
        "# the more accurate the grain size evolution will be.\n",
        "# We cannot run an instantaneous model though, because the grain size\n",
        "# change rate has to be multiplied by the time step to compute a\n",
        "# comparable output value.\n",
        "dt = 1 * (3600*24*365.25)"
      ]
    },
    {
      "cell_type": "code",
      "execution_count": null,
      "metadata": {
        "id": "Jkh1UxJGUwgo"
      },
      "outputs": [],
      "source": [
        "# these are values predicted by the ASPECT test case\n",
        "aspect_grain_size = 9.99839e-4\n",
        "aspect_viscosity = 5.76734e17\n",
        "aspect_grain_size_change = -1.61277e-7"
      ]
    },
    {
      "cell_type": "code",
      "execution_count": null,
      "metadata": {
        "colab": {
          "base_uri": "https://localhost:8080/"
        },
        "id": "7iyKUzQkaPXt",
        "outputId": "04166caf-85a8-4182-c7f2-ee9ad9727504"
      },
      "outputs": [],
      "source": [
        "# compute the expected values for grain_size_change_rate\n",
        "# note that we use the ASPECT viscosity to compute the expected\n",
        "# shear heating rate\n",
        "shear_heating = shear_heating_rate(strain_rate, aspect_viscosity)\n",
        "grain_size_change_rate = growth_term(aspect_grain_size) - reduction_term(aspect_grain_size, shear_heating)\n",
        "\n",
        "# ASPECT reports change per timestep, not change rate, so multiply \n",
        "# the rate with the length of the timestep to create a comparable quantity.\n",
        "expected_grain_size_change = grain_size_change_rate * dt\n",
        "\n",
        "# Compare the expected with the actual change. Note that there is a difference between\n",
        "# the two due to numerical accuracy. We tested experimentally that this difference decreases\n",
        "# with decreasing time step size. \n",
        "print (\"Expected theoretical change: \", expected_grain_size_change)\n",
        "print (\"Actual ASPECT change: \", aspect_grain_size_change)\n",
        "print (\"Relative difference: \", np.abs(aspect_grain_size_change - expected_grain_size_change) / expected_grain_size_change)\n"
      ]
    }
  ],
  "metadata": {
    "colab": {
      "provenance": []
    },
    "kernelspec": {
      "display_name": "Python 3",
      "language": "python",
      "name": "python3"
    },
    "language_info": {
      "codemirror_mode": {
        "name": "ipython",
        "version": 3
      },
      "file_extension": ".py",
      "mimetype": "text/x-python",
      "name": "python",
      "nbconvert_exporter": "python",
      "pygments_lexer": "ipython3",
      "version": "3.10.10"
    }
  },
  "nbformat": 4,
  "nbformat_minor": 0
}
