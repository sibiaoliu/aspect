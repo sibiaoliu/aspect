{
 "cells": [
  {
   "cell_type": "markdown",
   "metadata": {},
   "source": [
    "This notebook reports on the test results for test `grain_size_strain_pinned_state.prm` and allows to compare the ASPECT test against analytical results. Over time the model maintains nearly constant temperatures, pressures and strain rates and only utilizes dislocation creep. The grain size in the test approaches the equilibrium grain size for t -> infinity. For this simple case we can compute the analytical equilibrium grain size and compare it to the one in the ASPECT testcase."
   ]
  },
  {
   "cell_type": "code",
   "execution_count": null,
   "metadata": {},
   "outputs": [],
   "source": [
    "import numpy as np"
   ]
  },
  {
   "cell_type": "code",
   "execution_count": null,
   "metadata": {},
   "outputs": [],
   "source": [
    "# define constants here\n",
    "q                       = 4.\n",
    "grain_growth_prefactor  = 1.6e-22\n",
    "grain_growth_activation = 39072\n",
    "f1                      = 1e-6\n",
    "phase_distribution      = 0.6*0.4\n",
    "\n",
    "hg         = (2/np.pi)*(2/np.pi)\n",
    "R_times_T  = 8.314*1600"
   ]
  },
  {
   "cell_type": "markdown",
   "metadata": {},
   "source": [
    "In steady state, we can compute equilibrium grain size in the pinned state using Eq. 8 of Mulyukova and Bercovici (2018) by assuming the grain size change rate $\\dot{R} = 0$: \n",
    "\n",
    "\\begin{equation}\n",
    "\\dot{R} = 0 = \\frac {3 \\phi_1 \\phi_2 k_g \\sqrt h_g^{-q}}{q R^{q-1}} \\exp(\\frac{-E_g}{R_gT})  - \\frac{f \\sqrt h_g \\Psi}{3 \\phi_1 \\phi_2} R^2\n",
    "\\end{equation}\n",
    "\n",
    "Here, $\\phi_1 \\phi_2$ is the phase distribution function and $\\sqrt{h_g} = 2/\\pi$. The shear heating term $\\Psi$ is $2\\dot\\varepsilon\\tau$, where $\\tau = 2 \\eta \\dot\\varepsilon$, therefore, $\\Psi = 4 \\eta \\dot\\varepsilon ^2$\n",
    "\n",
    "We will use\n",
    "\n",
    "\\begin{align}\n",
    "B_{\\text{growth}} = \\frac {3 \\phi_1\\phi_2 k_g \\sqrt {h_g}^{-q}}{q} \\exp(\\frac{-E_g}{R_gT}) \\\\\n",
    "B_{\\text{reduction}} = - \\frac{f \\sqrt{h_g} \\Psi}{3\\phi_1\\phi_2}\n",
    "\\end{align}\n",
    "\n",
    "to combine the the prefactors of R (grain_size) such that the above equation can be written as:\n",
    "\n",
    "\\begin{equation}\n",
    "0 = \\frac{B_{\\text{growth}}}{R^{(q-1)}} - B_{\\text{reduction}}*R^2,\n",
    "\\end{equation}\n",
    "\n",
    "and rearranging the above equation yields:\n",
    "\n",
    "\\begin{equation}\n",
    "R = \\left(\\frac{B_{\\text{growth}}}{B_{\\text{reduction}}}\\right)^{\\frac{1}{q+1}}.\n",
    "\\end{equation}\n"
   ]
  },
  {
   "cell_type": "code",
   "execution_count": null,
   "metadata": {},
   "outputs": [],
   "source": [
    "def equilibrium_grain_size (viscosity, q):\n",
    "    \n",
    "    shear_heating = 4*strain_rate*strain_rate*viscosity\n",
    "    \n",
    "    grain_reduction_term = f1*np.sqrt(hg)*shear_heating/(3*phase_distribution)\n",
    "    \n",
    "    grain_growth_term    = (hg**(-q/2) * 3 * phase_distribution * grain_growth_prefactor * \\\n",
    "                                 np.exp(-grain_growth_activation/R_times_T))/q\n",
    "    \n",
    "    return (grain_growth_term/grain_reduction_term)**(1/(q+1))"
   ]
  },
  {
   "cell_type": "markdown",
   "metadata": {},
   "source": [
    "As shown above the equilibrium grain size depends on the viscosity through the shear heating term $\\Psi$. Because the viscosity of diffusion creep in turn depends on the grain size this relationship makes the equilibrium grain size hard to compute analytically. To simplify the system we disable diffusion creep and only utilize dislocation creep for this test case, with the dislocation viscosity computed as:"
   ]
  },
  {
   "cell_type": "markdown",
   "metadata": {},
   "source": [
    "\\begin{equation}\n",
    "\\eta = \\frac{1}{2} A^{\\frac{-1}{n}} \\dot\\varepsilon^{1/n - 1} \\exp{\\frac{-E_d}{nR_gT}}.\n",
    "\\end{equation}"
   ]
  },
  {
   "cell_type": "markdown",
   "metadata": {},
   "source": [
    "Here, $A$ is the dislocation prefactor, $n$ the stress exponent, $\\dot{\\epsilon}$ the strain rate, $E_d$ the dislocation activation energy, $R_g$ the universal gas constant, and $T$ temperature."
   ]
  },
  {
   "cell_type": "code",
   "execution_count": null,
   "metadata": {},
   "outputs": [],
   "source": [
    "# In our test case of simple shear, we apply vx = y/10^5 per year and vy = 0. Therefore, we only have the yx \n",
    "# component of the strain rate tensor = 1/2*(vx/y) or 1/2*(1/10^5) per year.\n",
    "\n",
    "strain_rate            = (1e-5/(3600*24*365.25))/2\n",
    "dislocation_prefactor  = 1e-13\n",
    "dislocation_activation = 390720\n",
    "stress_exponent        = 3\n",
    "\n",
    "dislocation_viscosity = (dislocation_prefactor)**(-1/stress_exponent)*strain_rate**(1/stress_exponent - 1) \\\n",
    "                        *np.exp(dislocation_activation/(stress_exponent*R_times_T))"
   ]
  },
  {
   "cell_type": "markdown",
   "metadata": {},
   "source": [
    "Assuming the parameters above, which are also used as input parameters for the ASPECT test `grain_size_strain_pinned_state.prm`, we can calculate the expected equilibrium grain size:"
   ]
  },
  {
   "cell_type": "code",
   "execution_count": null,
   "metadata": {},
   "outputs": [],
   "source": [
    "analytical_equilibrium_grain_size = equilibrium_grain_size (dislocation_viscosity, 4)\n",
    "print (\"Analytical equilibrium grain size: \", analytical_equilibrium_grain_size)\n"
   ]
  },
  {
   "cell_type": "markdown",
   "metadata": {},
   "source": [
    "And the actual ASPECT test value after 4e8 years (when it is converged):"
   ]
  },
  {
   "cell_type": "code",
   "execution_count": null,
   "metadata": {},
   "outputs": [],
   "source": [
    "aspect_equilibrium_grain_size = 0.0151242683\n",
    "print (\"ASPECT equilibrium grain size: \", aspect_equilibrium_grain_size)\n",
    "relative_equilibrium_grain_size_error = np.abs(aspect_equilibrium_grain_size - analytical_equilibrium_grain_size) / analytical_equilibrium_grain_size\n",
    "print (\"Relative error: \", relative_equilibrium_grain_size_error)"
   ]
  }
 ],
 "metadata": {
  "kernelspec": {
   "display_name": "Python 3",
   "language": "python",
   "name": "python3"
  },
  "language_info": {
   "codemirror_mode": {
    "name": "ipython",
    "version": 3
   },
   "file_extension": ".py",
   "mimetype": "text/x-python",
   "name": "python",
   "nbconvert_exporter": "python",
   "pygments_lexer": "ipython3",
   "version": "3.10.10"
  }
 },
 "nbformat": 4,
 "nbformat_minor": 2
}
