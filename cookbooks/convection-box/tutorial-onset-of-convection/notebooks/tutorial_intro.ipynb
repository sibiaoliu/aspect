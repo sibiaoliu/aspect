{
 "cells": [
  {
   "cell_type": "markdown",
   "metadata": {},
   "source": [
    "### <img src=\"../static/aspect_www_small.jpg\" style=\"display: inline-block; width: 150px; padding-right:25px\" align=left />\n",
    "\n",
    "## 1 Introduction to ASPECT\n",
    "\n",
    "ASPECT — the Advanced Solver for Planetary Evolution, Convection, and Tectonics — is a parallel finite element code intended to solve the equations that describe thermally driven convection with a focus on doing so in the context of convection\n",
    "in the earth's mantle. \n",
    "It has grown from a pure\n",
    "mantle-convection code into a tool for many geodynamic applications\n",
    "including applications for inner core convection, lithospheric scale\n",
    "deformation, two-phase flow, and numerical methods development. \n",
    "\n",
    "The code builds on the deal.II library (https://www.dealii.org/), and, through deal.II, on Trilinos (see http://trilinos.org/) for parallel linear algebra and on p4est (see http://www.p4est.org/) for parallel mesh handling.\n",
    "\n",
    "**Modularity**\n",
    "\n",
    "ASPECT is designed to be an extensible code. It uses both a plug in architecture and a set of signals in which you can replace or extend certain parts of the code. The most common modifications made are changes to the material model, geometry, the direction and magnitude of gravity, and/or the initial and boundary conditions; and additions of postprocesors.  To make these this as a simple as possible, parts of the program have been separated into modules that communicate through interfaces. \n",
    "\n",
    "For more information, consult the manual, section <em> 6.0 Extending ASPECT</em>.\n",
    "\n",
    "<div align=\"center\">\n",
    "\n",
    "<img src=\"../static/modularity1.png\" style=\"display: inline-block;width: 475px; padding-right:25px; padding-left:25px\"> \n",
    "<img src=\"../static/modularity2.png\" style=\"display: inline-block; width: 450px; padding-left:25px\">\n",
    "    \n",
    "</div>\n",
    "\n",
    "Skip to Section 4 for information on:\n",
    "> 4.1 [Governing Equations](tutorial_governing.ipynb)\n",
    "\n",
    "> 4.2 [The .prm File](tutorial_prm.ipynb)\n",
    "\n",
    "> 4.3 [Default Values](tutorial_default.ipynb)\n",
    "\n",
    "<div align=\"right\">\n",
    "    \n",
    "#### >>>>> **NEXT**: [2.0 Running ASPECT](tutorial_running.ipynb)\n",
    "</div>\n"
   ]
  },
  {
   "cell_type": "code",
   "execution_count": null,
   "metadata": {},
   "outputs": [],
   "source": []
  }
 ],
 "metadata": {
  "kernelspec": {
   "display_name": "Python 3",
   "language": "python",
   "name": "python3"
  },
  "language_info": {
   "codemirror_mode": {
    "name": "ipython",
    "version": 3
   },
   "file_extension": ".py",
   "mimetype": "text/x-python",
   "name": "python",
   "nbconvert_exporter": "python",
   "pygments_lexer": "ipython3",
   "version": "3.8.5"
  }
 },
 "nbformat": 4,
 "nbformat_minor": 4
}
