{
 "cells": [
  {
   "cell_type": "markdown",
   "metadata": {},
   "source": [
    "### 4.4 Reproducibility and Credit\n",
    "\n",
    "Many researchers have contributed a large amount of time and effort to developing ASPECT for the community.  Help them in their careers by citing ASPECT. \n",
    "\n",
    "You can give credit and support reproducibility by citing:\n",
    "* the version of the code used,\n",
    "* where the code can be found, and\n",
    "* repository where you have deposited your input and output files.  \n",
    "\n",
    "For the latest citation and attribution information, go to:\n",
    "> https://aspect.geodynamics.org/citing.html?src=www&ver=release\n",
    "\n",
    "Consult your institution and/or publisher for repository recommendations.  \n",
    "\n",
    "Still do not know what to use? See our guidelines on [publishing](https://geodynamics.org/software/software-bp/software-publishing).\n",
    "\n",
    "\n",
    "CIG maintains a Zenodo Community - Computational Infrastructure for Geodynamics.  Join the community to improve discoverability of your work.\n",
    "\n"
   ]
  },
  {
   "cell_type": "code",
   "execution_count": null,
   "metadata": {},
   "outputs": [],
   "source": []
  }
 ],
 "metadata": {
  "kernelspec": {
   "display_name": "Python 3",
   "language": "python",
   "name": "python3"
  },
  "language_info": {
   "codemirror_mode": {
    "name": "ipython",
    "version": 3
   },
   "file_extension": ".py",
   "mimetype": "text/x-python",
   "name": "python",
   "nbconvert_exporter": "python",
   "pygments_lexer": "ipython3",
   "version": "3.8.5"
  }
 },
 "nbformat": 4,
 "nbformat_minor": 4
}
