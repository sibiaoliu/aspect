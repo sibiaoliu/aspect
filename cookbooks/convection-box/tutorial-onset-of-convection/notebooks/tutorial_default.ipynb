{
 "cells": [
  {
   "cell_type": "markdown",
   "metadata": {},
   "source": [
    "\n",
    "### 4.3 Default Values\n",
    "\n",
    "ASPECT uses SI units (MKS):\n",
    "* $t$ time is internally calculated in seconds. Exported in years.\n",
    "* $\\bf{u}$ velocity $m/s$\n",
    "* $p$ pressure Pa\n",
    "* $T$ temperature K\n",
    "* $\\epsilon(\\bf{u})$ strain rate $1/s$\n",
    "* $\\eta$ viscosity $Pa \\cdot s$\n",
    "* $\\rho$ density $kg/m^3$\n",
    "* g gravity $m/s^2$\n",
    "* $C_p$ specific heat capacity $J/kg \\cdot K$\n",
    "* $\\kappa$ thermal conductivity $W/m \\cdot K$\n",
    "* $\\it{H}$ intrinsic specific heat production $W/kg$\n",
    "\n",
    "Default values:\n",
    "* $\\rho_0 = 3300$\n",
    "* $g=9.8$\n",
    "* $\\alpha = 2 \\times 10^{-5}$\n",
    "* $\\Delta T = 3600-273 = 3327 $\n",
    "* $D = 3 \\times 10^6$\n",
    "* $k = 4.7$\n",
    "* $c_p = 1250 $\n",
    "* $\\kappa = {k \\over {\\rho_0c_p}} = 1.1394 \\times 10^{-6} $\n",
    "\n",
    "<div align=\"right\">\n",
    "    \n",
    "#### >>>>> **NEXT**: [4.4 Reproducibility and Credit](tutorial_credit.ipynb)\n",
    "</div>"
   ]
  },
  {
   "cell_type": "code",
   "execution_count": null,
   "metadata": {},
   "outputs": [],
   "source": []
  }
 ],
 "metadata": {
  "kernelspec": {
   "display_name": "Python 3",
   "language": "python",
   "name": "python3"
  },
  "language_info": {
   "codemirror_mode": {
    "name": "ipython",
    "version": 3
   },
   "file_extension": ".py",
   "mimetype": "text/x-python",
   "name": "python",
   "nbconvert_exporter": "python",
   "pygments_lexer": "ipython3",
   "version": "3.8.5"
  }
 },
 "nbformat": 4,
 "nbformat_minor": 4
}
